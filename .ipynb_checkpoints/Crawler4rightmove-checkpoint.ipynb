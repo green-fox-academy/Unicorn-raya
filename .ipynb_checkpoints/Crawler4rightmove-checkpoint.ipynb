{
 "cells": [
  {
   "cell_type": "code",
   "execution_count": 212,
   "metadata": {},
   "outputs": [],
   "source": [
    "import requests\n",
    "import numpy as np\n",
    "import pandas as pd\n",
    "from pandas.io.json import json_normalize\n",
    "from bs4 import BeautifulSoup\n",
    "from pandas import Series,DataFrame\n",
    "from pandas import to_datetime"
   ]
  },
  {
   "cell_type": "code",
   "execution_count": 218,
   "metadata": {},
   "outputs": [],
   "source": [
    "total_pages = 40\n",
    "num_in_page = 25\n",
    "addresses = []\n",
    "prices = []\n",
    "house_types=[]\n",
    "ownerships=[]\n",
    "builds = []\n",
    "dates=[]\n",
    "noBeds = []\n",
    "\n",
    "ownership_dic = {\" Freehold\":0,\" Leasehold\":1}\n",
    "resi_dic = {\" Residential\":0,\" Residential\\xa0(New Build)\":1}\n",
    "\n",
    "cities = {'Bath':'116','Bridgwater':'212','Burnham-On-Sea':'251','Chard':'301','Cheddar':'306','Clevedon':'337','Crewkerne':'381','Frome':'536','Glastonbury':'551','Ilminster':'678','Minehead':'942','Radstock':'1109','Shepton+Mallet':'1198','Street':'1287','Taunton':'1317','Wellington':'1414','Wells':'1415','Weston-Super-Mare':'1437','Wincanton':'1458','Yeovil':'1497'}\n",
    "for key,value in cities.items():\n",
    "    for index in range(0,total_pages * num_in_page,num_in_page):\n",
    "        print(index)\n",
    "        baseUrl = f\"https://www.rightmove.co.uk/house-prices/detail.html?country=england&locationIdentifier=REGION%5E{value}&searchLocation={key}&index=\"\n",
    "        page = requests.get(baseUrl + str(index))\n",
    "        soup = BeautifulSoup(page.content,'html.parser')\n",
    "        #soup.prettify()\n",
    "        house_data = soup.find_all('div',{\"class\":\"soldDetails\"})\n",
    "        soldAddress = soup.find_all(['a','div'],{'class':'soldAddress'})\n",
    "        soldPrice = soup.find_all('td',{'class':'soldPrice'})\n",
    "        soldDate = soup.find_all('td',{'class':'soldDate'})\n",
    "        soldNoBed = soup.find_all('td',{'class':'noBed'})\n",
    "        soldType = soup.find_all('td',{'class':'soldType'})\n",
    "        housetype = soldType[0] \n",
    "        ownership = soldType[1]\n",
    "        build = soldType[2]\n",
    "        for i in range(num_in_page):\n",
    "            addresses.append(\"\".join(soldAddress[i].text.split(' ')[-2:]))\n",
    "            price = soldPrice[i].text\n",
    "            prices.append(price.strip('£').replace(',',\"\"))\n",
    "            house_types.append(soldType[i].text.split(',')[0])\n",
    "            ownerships.append(ownership_dic[soldType[i].text.split(',')[1]])\n",
    "            builds.append(resi_dic[soldType[i].text.split(',')[2]])\n",
    "            dates.append(soldDate[i].text)\n",
    "            noBeds.append(soldNoBed[i].text.split(\" \")[0])\n",
    "\n",
    "    data_dic = {'postcode':addresses,'prices':prices,'house_types':house_types,'ownership':ownerships,'new':builds,'date':dates,'noBed':noBeds,'city':key} \n",
    "    tmp_data = pd.DataFrame(data_dic)\n",
    "    tmp_data.to_csv('Bath.csv',mode = 'a')\n",
    "\n",
    "print('done') \n"
   ]
  },
  {
   "cell_type": "code",
   "execution_count": 209,
   "metadata": {},
   "outputs": [
    {
     "name": "stdout",
     "output_type": "stream",
     "text": [
      "BA15NY\n"
     ]
    }
   ],
   "source": [
    "\n",
    "str1 = 'Bath And North East Somerset BA2 4BP'\n",
    "str2 = 'Avon BA1 5NY'\n",
    "print(\"\".join(str2.split(' ')[-2:]))\n"
   ]
  },
  {
   "cell_type": "code",
   "execution_count": null,
   "metadata": {},
   "outputs": [],
   "source": []
  },
  {
   "cell_type": "code",
   "execution_count": null,
   "metadata": {},
   "outputs": [],
   "source": []
  },
  {
   "cell_type": "code",
   "execution_count": null,
   "metadata": {},
   "outputs": [],
   "source": []
  },
  {
   "cell_type": "code",
   "execution_count": null,
   "metadata": {},
   "outputs": [],
   "source": []
  },
  {
   "cell_type": "code",
   "execution_count": null,
   "metadata": {},
   "outputs": [],
   "source": []
  }
 ],
 "metadata": {
  "kernelspec": {
   "display_name": "Python 3",
   "language": "python",
   "name": "python3"
  },
  "language_info": {
   "codemirror_mode": {
    "name": "ipython",
    "version": 3
   },
   "file_extension": ".py",
   "mimetype": "text/x-python",
   "name": "python",
   "nbconvert_exporter": "python",
   "pygments_lexer": "ipython3",
   "version": "3.7.3"
  }
 },
 "nbformat": 4,
 "nbformat_minor": 2
}
