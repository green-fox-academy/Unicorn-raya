{
 "cells": [
  {
   "cell_type": "code",
   "execution_count": 59,
   "metadata": {
    "scrolled": false
   },
   "outputs": [],
   "source": [
    "import requests\n",
    "import json\n",
    "import pandas as pd\n",
    "from pandas.io.json import json_normalize\n",
    "import urllib.parse"
   ]
  },
  {
   "cell_type": "code",
   "execution_count": null,
   "metadata": {},
   "outputs": [],
   "source": [
    "# 1. Requests\n",
    "# Find Bara a flight home: She lives in Bristol, UK and would like to go to Prague, CZ for Christmas this year. \n",
    "# she prefers to arrives to the city within 5 days prior to 24.12. and save as much money as possible. \n",
    "# No changes in flights, please.\n",
    "\n",
    "# Hint: you can get back to kiwi.com APIs to get your answer.\n",
    "\n",
    "\n",
    "url = 'https://api.skypicker.com/flights?flyFrom=BRS&to=PRG&dateFrom=19/12/2019&dateTo=24/12/2019&partner=picky'\n",
    "page = requests.get(url)\n",
    "json_context = json.loads(page.text)\n",
    "df = json_normalize(json_context['data'])\n",
    "\n",
    "time_lower_bound = 1576684800\n",
    "time_upper_bound = 1577116800\n",
    "\n",
    "a = df[(df['dTime'] > time_lower_bound) & (df['dTime'] < time_upper_bound)&(df['price'] == df['price'].min()) ]\n",
    "a['price']\n",
    "\n"
   ]
  },
  {
   "cell_type": "code",
   "execution_count": null,
   "metadata": {},
   "outputs": [],
   "source": []
  },
  {
   "cell_type": "code",
   "execution_count": 60,
   "metadata": {},
   "outputs": [
    {
     "name": "stdout",
     "output_type": "stream",
     "text": [
      "https://api.skypicker.com/aggregation_flights?fly_from=BRS&fly_to=PRG&v=3&date_from=19%2F12%2F2019&date_to=24%2F12%2F2019&flight_type=oneway&one_for_city=0&one_per_date=1&adults=1&curr=EUR&locale=en&max_stopovers=0&conn_on_diff_airport=0&sort=price&asc=1\n",
      "{'search_id': 'b697a81b-0bdf-4e62-baf3-5d4ba54f3201', 'data': [{'date': '2019-12-19', 'price': 101}, {'date': '2019-12-20', 'price': 110}, {'date': '2019-12-21', 'price': 123}, {'date': '2019-12-22', 'price': 115}, {'date': '2019-12-23', 'price': 96}, {'date': '2019-12-24', 'price': 87}], 'connections': [], 'time': 1, 'currency': 'EUR', 'currency_rate': 1.0, 'fx_rate': 1.0, 'refresh': [], 'del': 0, 'ref_tasks': [], 'search_params': {'flyFrom_type': 'airport', 'to_type': 'airport', 'seats': {'passengers': 1, 'adults': 1, 'children': 0, 'infants': 0}}, 'airlinesList': [], 'airportsList': [], 'all_airlines': [], 'all_prices': {'84-89': 1, '94-100': 1, '100-106': 1, '106-112': 1, '112-119': 1, '119-126': 1}, 'all_stopover_airports': [], 'best_results': [{'sort': 'price', 'price': 87, 'duration': 7200, 'quality': 114.99993}], 'hashtags': [{'name': 'morning', 'count': 5}, {'name': 'afternoon', 'count': 5}, {'name': 'tuesday', 'count': 1}, {'name': 'direct', 'count': 6}, {'name': 'duration:2-3', 'count': 6}, {'name': 'departure:13-14', 'count': 4}, {'name': 'arrival:16-17', 'count': 4}, {'name': 'monday', 'count': 1}, {'name': 'thursday', 'count': 1}, {'name': 'friday', 'count': 1}, {'name': 'evening', 'count': 1}, {'name': 'sunday', 'count': 1}, {'name': 'departure:17-18', 'count': 1}, {'name': 'arrival:20-21', 'count': 1}, {'name': 'saturday', 'count': 1}, {'name': 'departure:7-8', 'count': 1}, {'name': 'arrival:10-11', 'count': 1}], 'location_hashtags': ['sightseeing&culture', 'nightlife']}\n"
     ]
    }
   ],
   "source": [
    "\n",
    "api = 'https://api.skypicker.com/aggregation_flights?'\n",
    "url = api + urllib.parse.urlencode({\"fly_from\": 'BRS',\n",
    "                                    \"fly_to\": 'PRG',\n",
    "                                    \"v\":3,\n",
    "                                    \"date_from\": \"19/12/2019\",\n",
    "                                    \"date_to\":\"24/12/2019\",\n",
    "                                    \"flight_type\": \"oneway\",\n",
    "                                    \"one_for_city\": 0,\n",
    "                                    \"one_per_date\": 1,\n",
    "                                    \"adults\":1,\n",
    "                                    \"curr\":\"EUR\",\n",
    "                                    \"locale\": \"en\",\n",
    "                                    \"max_stopovers\": 0,\n",
    "                                    \"conn_on_diff_airport\": 0,\n",
    "                                    \"sort\": \"price\",\n",
    "                                    \"asc\": 1})\n",
    "data = requests.get(url).json()\n",
    "print(url)\n",
    "print(data)"
   ]
  },
  {
   "cell_type": "code",
   "execution_count": 156,
   "metadata": {},
   "outputs": [],
   "source": [
    "# 2. BeautifulSoup\n",
    "# Alza.co.uk is an online store predominantly offering electronics and home appliances.\n",
    "# First part:\n",
    "# Alza.co.uk is an online store predominantly offering electronics and home appliances.\n",
    "# Your task is to get the names of the best three laptops in each of these three categories\n",
    "# - home and office, gaming, professional, their previous and current price \n",
    "# (if the type is not on sale, the price will be the same).\n",
    "\n",
    "from bs4 import BeautifulSoup\n",
    "import re"
   ]
  },
  {
   "cell_type": "code",
   "execution_count": 205,
   "metadata": {},
   "outputs": [],
   "source": [
    "#gaming laptop\n",
    "game_page = requests.get('https://www.alza.co.uk/gaming-laptops/18848814.htm')\n",
    "soup = BeautifulSoup(game_page.content,'html.parser')\n",
    "game_data = soup.find_all('div',{\"class\":\"firstRow\"})"
   ]
  },
  {
   "cell_type": "code",
   "execution_count": 206,
   "metadata": {},
   "outputs": [
    {
     "name": "stdout",
     "output_type": "stream",
     "text": [
      "Lenovo IdeaPad 720s-15IKB Silver Metallic\n",
      "current price : 889\n",
      "£740.83\n",
      "Lenovo Legion Y530-15ICH Black\n",
      "current price : 1,220.90\n",
      "£1,017.42\n",
      "Dell G7 17 (7790) Gaming Black\n",
      "current price : 1,629\n",
      "£1,357.50\n"
     ]
    }
   ],
   "source": [
    "for i in game_data:\n",
    "    print(i[\"data-name\"])\n",
    "    print(f'current price : {i[\"data-price\"]}')\n",
    "    print(i.find_all('b')[0].text)   "
   ]
  },
  {
   "cell_type": "code",
   "execution_count": 207,
   "metadata": {},
   "outputs": [],
   "source": [
    "#Home and office\n",
    "home_page = requests.get('https://www.alza.co.uk/basic-home-and-office-laptops/18843464.htm')\n",
    "soup = BeautifulSoup(home_page.content,'html.parser')\n",
    "home_data = soup.find_all('div',{\"class\":\"firstRow\"})"
   ]
  },
  {
   "cell_type": "code",
   "execution_count": 208,
   "metadata": {},
   "outputs": [
    {
     "name": "stdout",
     "output_type": "stream",
     "text": [
      "Microsoft Surface Go 128GB 8GB LTE\n",
      "current price : 659\n",
      "£549.17\n",
      "Dell Latitude 5590\n",
      "current price : 1,084.90\n",
      "£904.08\n",
      "Dell G7 17 (7790) Gaming Black\n",
      "current price : 1,629\n",
      "£1,357.50\n"
     ]
    }
   ],
   "source": [
    "for i in home_data:\n",
    "    print(i[\"data-name\"])\n",
    "    print(f'current price : {i[\"data-price\"]}')\n",
    "    print(i.find_all('b')[0].text)"
   ]
  },
  {
   "cell_type": "code",
   "execution_count": 210,
   "metadata": {},
   "outputs": [],
   "source": [
    "#professional \n",
    "pro_page = requests.get('https://www.alza.co.uk/professional-laptops/18853299.htm')\n",
    "soup = BeautifulSoup(pro_page.content,'html.parser')\n",
    "pro_data = soup.find_all('div',{\"class\":\"firstRow\"})"
   ]
  },
  {
   "cell_type": "code",
   "execution_count": 211,
   "metadata": {},
   "outputs": [
    {
     "name": "stdout",
     "output_type": "stream",
     "text": [
      "Lenovo V330-14IKB Iron Grey\n",
      "current price : 570.90\n",
      "£475.75\n",
      "Dell Latitude 5590\n",
      "current price : 1,084.90\n",
      "£904.08\n",
      "Lenovo ThinkPad T480\n",
      "current price : 1,929\n",
      "£1,607.50\n"
     ]
    }
   ],
   "source": [
    "for i in pro_data:\n",
    "    print(i[\"data-name\"])\n",
    "    print(f'current price : {i[\"data-price\"]}')\n",
    "    print(i.find_all('b')[0].text)"
   ]
  },
  {
   "cell_type": "code",
   "execution_count": 216,
   "metadata": {},
   "outputs": [],
   "source": [
    "# Second part:\n",
    "\n",
    "# Find another website of your choice, from which you can scrape products for comparison.\n",
    "# Repeat the process from the first part.\n",
    "\n",
    "#jb-hifi\n",
    "#gaming-laptop\n",
    "jbhifi_game_page = requests.get('https://www.jbhifi.com.au/computers-tablets/gaming-laptops/')\n",
    "jbhifi_soup = BeautifulSoup(jbhifi_game_page.content,'html.parser')\n",
    "jbhifi_game_data = jbhifi_soup.find_all('div',{\"class\":\"span03 product-tile\"})"
   ]
  },
  {
   "cell_type": "code",
   "execution_count": 299,
   "metadata": {},
   "outputs": [
    {
     "name": "stdout",
     "output_type": "stream",
     "text": [
      "Razer Blade 15 Advanced Model 15.6\" 240Hz Full HD Gaming Laptop (512GB)\n",
      "$4399\n",
      "Razer Blade 15 Advanced Model 15.6\" 240Hz Full HD Gaming Laptop (256GB)\n",
      "$4099\n",
      "Razer Blade Pro 17.3\" Full HD 144Hz Gaming Laptop [RTX 2070]\n",
      "$4799\n",
      "Razer Blade 15 Advanced Model 15.6\" 240Hz Full HD Gaming Laptop (512GB) [RTX 2080]\n",
      "$5099\n",
      "Razer Blade Pro 17.3\" Full HD 144Hz Gaming Laptop [RTX 2060]\n",
      "$4299\n",
      "Razer Blade Pro 17.3\" Full HD 144Hz Gaming Laptop [RTX 2080]\n",
      "$5449\n",
      "Razer Blade Stealth 13.3\" Full HD Gaming Laptop (Graphics)\n",
      "$2399\n",
      "Razer Blade Stealth 13.3\" Full HD Gaming Laptop (Base)\n",
      "$1999\n",
      "Acer Nitro 5 AN515-42-R3EE 15.6\" Full HD Gaming Laptop\n",
      "$1499\n",
      "Alienware M17 17.3\" Full HD Gaming Laptop\n",
      "$3999\n"
     ]
    }
   ],
   "source": [
    "for i in jbhifi_game_data[:10]:\n",
    "    print(i.find_all('h4')[0].text)\n",
    "    current_context = i.find_all('span',{'class':\"amount regular\"})[0].text\n",
    "    current = re.sub('\\s','',current_context)\n",
    "     \n",
    "    if len(current) != 0:\n",
    "        print(current)\n",
    "    else:\n",
    "        sales = list(i.find_all('span',{'class':\"amount onSale\"}))\n",
    "        current = sales[0].text\n",
    "        current = re.sub('\\s','',current)\n",
    "        if len(current) != 0:\n",
    "            print(current)\n",
    "        else:\n",
    "            sp_sales = i.find_all('span',{'class':\"amount\"})\n",
    "            print(sp_sales)"
   ]
  },
  {
   "cell_type": "code",
   "execution_count": null,
   "metadata": {},
   "outputs": [],
   "source": [
    "#home and office\n",
    "jbhifi_home_page = requests.get(\"https://www.jbhifi.com.au/computers-tablets/2-in-1s/\")\n",
    "jbhifi_home_soup = BeautifulSoup(jbhifi_home_page.content,'html.parser')\n",
    "jbhifi_home_data = jbhifi_home_soup.find_all('div',{\"class\":\"span03 product-tile\"})"
   ]
  },
  {
   "cell_type": "code",
   "execution_count": null,
   "metadata": {},
   "outputs": [],
   "source": [
    "for i in jbhifi_home_data:\n",
    "    print(i.find_all('h4',{\"class\":\"title\"}))\n",
    "    \n",
    "    "
   ]
  },
  {
   "cell_type": "code",
   "execution_count": null,
   "metadata": {},
   "outputs": [],
   "source": []
  }
 ],
 "metadata": {
  "kernelspec": {
   "display_name": "Python 3",
   "language": "python",
   "name": "python3"
  },
  "language_info": {
   "codemirror_mode": {
    "name": "ipython",
    "version": 3
   },
   "file_extension": ".py",
   "mimetype": "text/x-python",
   "name": "python",
   "nbconvert_exporter": "python",
   "pygments_lexer": "ipython3",
   "version": "3.7.3"
  }
 },
 "nbformat": 4,
 "nbformat_minor": 2
}
