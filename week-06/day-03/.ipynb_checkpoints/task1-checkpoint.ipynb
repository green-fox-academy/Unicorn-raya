{
 "cells": [
  {
   "cell_type": "code",
   "execution_count": 1,
   "metadata": {},
   "outputs": [],
   "source": [
    "import pandas as pd\n",
    "import numpy as np\n",
    "import matplotlib\n",
    "from matplotlib import pyplot as plt\n",
    "\n",
    "%matplotlib inline\n"
   ]
  },
  {
   "cell_type": "code",
   "execution_count": 2,
   "metadata": {},
   "outputs": [],
   "source": [
    "Sales = pd.read_excel('Superstore.xls', index_col=0)"
   ]
  },
  {
   "cell_type": "code",
   "execution_count": 3,
   "metadata": {},
   "outputs": [
    {
     "data": {
      "text/html": [
       "<div>\n",
       "<style scoped>\n",
       "    .dataframe tbody tr th:only-of-type {\n",
       "        vertical-align: middle;\n",
       "    }\n",
       "\n",
       "    .dataframe tbody tr th {\n",
       "        vertical-align: top;\n",
       "    }\n",
       "\n",
       "    .dataframe thead th {\n",
       "        text-align: right;\n",
       "    }\n",
       "</style>\n",
       "<table border=\"1\" class=\"dataframe\">\n",
       "  <thead>\n",
       "    <tr style=\"text-align: right;\">\n",
       "      <th></th>\n",
       "      <th>Order ID</th>\n",
       "      <th>Order Date</th>\n",
       "      <th>Order Priority</th>\n",
       "      <th>Order Quantity</th>\n",
       "      <th>Sales</th>\n",
       "      <th>Discount</th>\n",
       "      <th>Ship Mode</th>\n",
       "      <th>Profit</th>\n",
       "      <th>Unit Price</th>\n",
       "      <th>Shipping Cost</th>\n",
       "      <th>...</th>\n",
       "      <th>Zip Code</th>\n",
       "      <th>State</th>\n",
       "      <th>Region</th>\n",
       "      <th>Customer Segment</th>\n",
       "      <th>Product Category</th>\n",
       "      <th>Product Sub-Category</th>\n",
       "      <th>Product Name</th>\n",
       "      <th>Product Container</th>\n",
       "      <th>Product Base Margin</th>\n",
       "      <th>Ship Date</th>\n",
       "    </tr>\n",
       "    <tr>\n",
       "      <th>Row ID</th>\n",
       "      <th></th>\n",
       "      <th></th>\n",
       "      <th></th>\n",
       "      <th></th>\n",
       "      <th></th>\n",
       "      <th></th>\n",
       "      <th></th>\n",
       "      <th></th>\n",
       "      <th></th>\n",
       "      <th></th>\n",
       "      <th></th>\n",
       "      <th></th>\n",
       "      <th></th>\n",
       "      <th></th>\n",
       "      <th></th>\n",
       "      <th></th>\n",
       "      <th></th>\n",
       "      <th></th>\n",
       "      <th></th>\n",
       "      <th></th>\n",
       "      <th></th>\n",
       "    </tr>\n",
       "  </thead>\n",
       "  <tbody>\n",
       "    <tr>\n",
       "      <th>1</th>\n",
       "      <td>3</td>\n",
       "      <td>2010-10-13</td>\n",
       "      <td>Low</td>\n",
       "      <td>6</td>\n",
       "      <td>261.5400</td>\n",
       "      <td>0.04</td>\n",
       "      <td>Regular Air</td>\n",
       "      <td>-213.250</td>\n",
       "      <td>38.94</td>\n",
       "      <td>35.00</td>\n",
       "      <td>...</td>\n",
       "      <td>60035</td>\n",
       "      <td>Illinois</td>\n",
       "      <td>Central</td>\n",
       "      <td>Small Business</td>\n",
       "      <td>Office Supplies</td>\n",
       "      <td>Storage &amp; Organization</td>\n",
       "      <td>Eldon Base for stackable storage shelf, platinum</td>\n",
       "      <td>Large Box</td>\n",
       "      <td>0.80</td>\n",
       "      <td>2010-10-20</td>\n",
       "    </tr>\n",
       "    <tr>\n",
       "      <th>2</th>\n",
       "      <td>6</td>\n",
       "      <td>2012-02-20</td>\n",
       "      <td>Not Specified</td>\n",
       "      <td>2</td>\n",
       "      <td>6.9300</td>\n",
       "      <td>0.01</td>\n",
       "      <td>Regular Air</td>\n",
       "      <td>-4.640</td>\n",
       "      <td>2.08</td>\n",
       "      <td>2.56</td>\n",
       "      <td>...</td>\n",
       "      <td>98026</td>\n",
       "      <td>Washington</td>\n",
       "      <td>West</td>\n",
       "      <td>Corporate</td>\n",
       "      <td>Office Supplies</td>\n",
       "      <td>Scissors, Rulers and Trimmers</td>\n",
       "      <td>Kleencut® Forged Office Shears by Acme United ...</td>\n",
       "      <td>Small Pack</td>\n",
       "      <td>0.55</td>\n",
       "      <td>2012-02-21</td>\n",
       "    </tr>\n",
       "    <tr>\n",
       "      <th>3</th>\n",
       "      <td>32</td>\n",
       "      <td>2011-07-15</td>\n",
       "      <td>High</td>\n",
       "      <td>26</td>\n",
       "      <td>2808.0800</td>\n",
       "      <td>0.07</td>\n",
       "      <td>Regular Air</td>\n",
       "      <td>1054.820</td>\n",
       "      <td>107.53</td>\n",
       "      <td>5.81</td>\n",
       "      <td>...</td>\n",
       "      <td>98387</td>\n",
       "      <td>Washington</td>\n",
       "      <td>West</td>\n",
       "      <td>Corporate</td>\n",
       "      <td>Furniture</td>\n",
       "      <td>Office Furnishings</td>\n",
       "      <td>Tenex Contemporary Contur Chairmats for Low an...</td>\n",
       "      <td>Medium Box</td>\n",
       "      <td>0.65</td>\n",
       "      <td>2011-07-17</td>\n",
       "    </tr>\n",
       "    <tr>\n",
       "      <th>4</th>\n",
       "      <td>32</td>\n",
       "      <td>2011-07-15</td>\n",
       "      <td>High</td>\n",
       "      <td>24</td>\n",
       "      <td>1761.4000</td>\n",
       "      <td>0.09</td>\n",
       "      <td>Delivery Truck</td>\n",
       "      <td>-1748.560</td>\n",
       "      <td>70.89</td>\n",
       "      <td>89.30</td>\n",
       "      <td>...</td>\n",
       "      <td>98387</td>\n",
       "      <td>Washington</td>\n",
       "      <td>West</td>\n",
       "      <td>Corporate</td>\n",
       "      <td>Furniture</td>\n",
       "      <td>Tables</td>\n",
       "      <td>KI Conference Tables</td>\n",
       "      <td>Jumbo Box</td>\n",
       "      <td>0.72</td>\n",
       "      <td>2011-07-16</td>\n",
       "    </tr>\n",
       "    <tr>\n",
       "      <th>5</th>\n",
       "      <td>32</td>\n",
       "      <td>2011-07-15</td>\n",
       "      <td>High</td>\n",
       "      <td>23</td>\n",
       "      <td>160.2335</td>\n",
       "      <td>0.04</td>\n",
       "      <td>Regular Air</td>\n",
       "      <td>-85.129</td>\n",
       "      <td>7.99</td>\n",
       "      <td>5.03</td>\n",
       "      <td>...</td>\n",
       "      <td>98387</td>\n",
       "      <td>Washington</td>\n",
       "      <td>West</td>\n",
       "      <td>Corporate</td>\n",
       "      <td>Technology</td>\n",
       "      <td>Telephones and Communication</td>\n",
       "      <td>Bell Sonecor JB700 Caller ID</td>\n",
       "      <td>Medium Box</td>\n",
       "      <td>0.60</td>\n",
       "      <td>2011-07-17</td>\n",
       "    </tr>\n",
       "  </tbody>\n",
       "</table>\n",
       "<p>5 rows × 22 columns</p>\n",
       "</div>"
      ],
      "text/plain": [
       "        Order ID Order Date Order Priority  Order Quantity      Sales  \\\n",
       "Row ID                                                                  \n",
       "1              3 2010-10-13            Low               6   261.5400   \n",
       "2              6 2012-02-20  Not Specified               2     6.9300   \n",
       "3             32 2011-07-15           High              26  2808.0800   \n",
       "4             32 2011-07-15           High              24  1761.4000   \n",
       "5             32 2011-07-15           High              23   160.2335   \n",
       "\n",
       "        Discount       Ship Mode    Profit  Unit Price  Shipping Cost  ...  \\\n",
       "Row ID                                                                 ...   \n",
       "1           0.04     Regular Air  -213.250       38.94          35.00  ...   \n",
       "2           0.01     Regular Air    -4.640        2.08           2.56  ...   \n",
       "3           0.07     Regular Air  1054.820      107.53           5.81  ...   \n",
       "4           0.09  Delivery Truck -1748.560       70.89          89.30  ...   \n",
       "5           0.04     Regular Air   -85.129        7.99           5.03  ...   \n",
       "\n",
       "       Zip Code       State   Region Customer Segment Product Category  \\\n",
       "Row ID                                                                   \n",
       "1         60035    Illinois  Central   Small Business  Office Supplies   \n",
       "2         98026  Washington     West        Corporate  Office Supplies   \n",
       "3         98387  Washington     West        Corporate        Furniture   \n",
       "4         98387  Washington     West        Corporate        Furniture   \n",
       "5         98387  Washington     West        Corporate       Technology   \n",
       "\n",
       "                 Product Sub-Category  \\\n",
       "Row ID                                  \n",
       "1              Storage & Organization   \n",
       "2       Scissors, Rulers and Trimmers   \n",
       "3                  Office Furnishings   \n",
       "4                              Tables   \n",
       "5        Telephones and Communication   \n",
       "\n",
       "                                             Product Name Product Container  \\\n",
       "Row ID                                                                        \n",
       "1        Eldon Base for stackable storage shelf, platinum         Large Box   \n",
       "2       Kleencut® Forged Office Shears by Acme United ...        Small Pack   \n",
       "3       Tenex Contemporary Contur Chairmats for Low an...        Medium Box   \n",
       "4                                    KI Conference Tables         Jumbo Box   \n",
       "5                            Bell Sonecor JB700 Caller ID        Medium Box   \n",
       "\n",
       "       Product Base Margin  Ship Date  \n",
       "Row ID                                 \n",
       "1                     0.80 2010-10-20  \n",
       "2                     0.55 2012-02-21  \n",
       "3                     0.65 2011-07-17  \n",
       "4                     0.72 2011-07-16  \n",
       "5                     0.60 2011-07-17  \n",
       "\n",
       "[5 rows x 22 columns]"
      ]
     },
     "execution_count": 3,
     "metadata": {},
     "output_type": "execute_result"
    }
   ],
   "source": [
    "Sales.head()"
   ]
  },
  {
   "cell_type": "code",
   "execution_count": 4,
   "metadata": {},
   "outputs": [
    {
     "data": {
      "text/html": [
       "<div>\n",
       "<style scoped>\n",
       "    .dataframe tbody tr th:only-of-type {\n",
       "        vertical-align: middle;\n",
       "    }\n",
       "\n",
       "    .dataframe tbody tr th {\n",
       "        vertical-align: top;\n",
       "    }\n",
       "\n",
       "    .dataframe thead th {\n",
       "        text-align: right;\n",
       "    }\n",
       "</style>\n",
       "<table border=\"1\" class=\"dataframe\">\n",
       "  <thead>\n",
       "    <tr style=\"text-align: right;\">\n",
       "      <th></th>\n",
       "      <th>Order ID</th>\n",
       "      <th>Order Quantity</th>\n",
       "      <th>Sales</th>\n",
       "      <th>Discount</th>\n",
       "      <th>Profit</th>\n",
       "      <th>Unit Price</th>\n",
       "      <th>Shipping Cost</th>\n",
       "      <th>Zip Code</th>\n",
       "      <th>Product Base Margin</th>\n",
       "    </tr>\n",
       "  </thead>\n",
       "  <tbody>\n",
       "    <tr>\n",
       "      <th>count</th>\n",
       "      <td>8399.000000</td>\n",
       "      <td>8399.000000</td>\n",
       "      <td>8399.000000</td>\n",
       "      <td>8399.000000</td>\n",
       "      <td>8399.000000</td>\n",
       "      <td>8399.000000</td>\n",
       "      <td>8399.000000</td>\n",
       "      <td>8399.000000</td>\n",
       "      <td>8336.000000</td>\n",
       "    </tr>\n",
       "    <tr>\n",
       "      <th>mean</th>\n",
       "      <td>29965.179783</td>\n",
       "      <td>25.571735</td>\n",
       "      <td>1775.878179</td>\n",
       "      <td>0.049671</td>\n",
       "      <td>181.184422</td>\n",
       "      <td>89.346259</td>\n",
       "      <td>12.838557</td>\n",
       "      <td>52839.139421</td>\n",
       "      <td>0.512513</td>\n",
       "    </tr>\n",
       "    <tr>\n",
       "      <th>std</th>\n",
       "      <td>17260.883447</td>\n",
       "      <td>14.481071</td>\n",
       "      <td>3585.050525</td>\n",
       "      <td>0.031823</td>\n",
       "      <td>1196.653326</td>\n",
       "      <td>290.354383</td>\n",
       "      <td>17.264052</td>\n",
       "      <td>28509.535635</td>\n",
       "      <td>0.135589</td>\n",
       "    </tr>\n",
       "    <tr>\n",
       "      <th>min</th>\n",
       "      <td>3.000000</td>\n",
       "      <td>1.000000</td>\n",
       "      <td>2.240000</td>\n",
       "      <td>0.000000</td>\n",
       "      <td>-14140.701600</td>\n",
       "      <td>0.990000</td>\n",
       "      <td>0.490000</td>\n",
       "      <td>1001.000000</td>\n",
       "      <td>0.350000</td>\n",
       "    </tr>\n",
       "    <tr>\n",
       "      <th>25%</th>\n",
       "      <td>15011.500000</td>\n",
       "      <td>13.000000</td>\n",
       "      <td>143.195000</td>\n",
       "      <td>0.020000</td>\n",
       "      <td>-83.315000</td>\n",
       "      <td>6.480000</td>\n",
       "      <td>3.300000</td>\n",
       "      <td>30337.000000</td>\n",
       "      <td>0.380000</td>\n",
       "    </tr>\n",
       "    <tr>\n",
       "      <th>50%</th>\n",
       "      <td>29857.000000</td>\n",
       "      <td>26.000000</td>\n",
       "      <td>449.420000</td>\n",
       "      <td>0.050000</td>\n",
       "      <td>-1.500000</td>\n",
       "      <td>20.990000</td>\n",
       "      <td>6.070000</td>\n",
       "      <td>52732.000000</td>\n",
       "      <td>0.520000</td>\n",
       "    </tr>\n",
       "    <tr>\n",
       "      <th>75%</th>\n",
       "      <td>44596.000000</td>\n",
       "      <td>38.000000</td>\n",
       "      <td>1709.320000</td>\n",
       "      <td>0.080000</td>\n",
       "      <td>162.748000</td>\n",
       "      <td>85.990000</td>\n",
       "      <td>13.990000</td>\n",
       "      <td>77577.000000</td>\n",
       "      <td>0.590000</td>\n",
       "    </tr>\n",
       "    <tr>\n",
       "      <th>max</th>\n",
       "      <td>59973.000000</td>\n",
       "      <td>50.000000</td>\n",
       "      <td>89061.050000</td>\n",
       "      <td>0.250000</td>\n",
       "      <td>27220.690000</td>\n",
       "      <td>6783.020000</td>\n",
       "      <td>164.730000</td>\n",
       "      <td>99362.000000</td>\n",
       "      <td>0.850000</td>\n",
       "    </tr>\n",
       "  </tbody>\n",
       "</table>\n",
       "</div>"
      ],
      "text/plain": [
       "           Order ID  Order Quantity         Sales     Discount        Profit  \\\n",
       "count   8399.000000     8399.000000   8399.000000  8399.000000   8399.000000   \n",
       "mean   29965.179783       25.571735   1775.878179     0.049671    181.184422   \n",
       "std    17260.883447       14.481071   3585.050525     0.031823   1196.653326   \n",
       "min        3.000000        1.000000      2.240000     0.000000 -14140.701600   \n",
       "25%    15011.500000       13.000000    143.195000     0.020000    -83.315000   \n",
       "50%    29857.000000       26.000000    449.420000     0.050000     -1.500000   \n",
       "75%    44596.000000       38.000000   1709.320000     0.080000    162.748000   \n",
       "max    59973.000000       50.000000  89061.050000     0.250000  27220.690000   \n",
       "\n",
       "        Unit Price  Shipping Cost      Zip Code  Product Base Margin  \n",
       "count  8399.000000    8399.000000   8399.000000          8336.000000  \n",
       "mean     89.346259      12.838557  52839.139421             0.512513  \n",
       "std     290.354383      17.264052  28509.535635             0.135589  \n",
       "min       0.990000       0.490000   1001.000000             0.350000  \n",
       "25%       6.480000       3.300000  30337.000000             0.380000  \n",
       "50%      20.990000       6.070000  52732.000000             0.520000  \n",
       "75%      85.990000      13.990000  77577.000000             0.590000  \n",
       "max    6783.020000     164.730000  99362.000000             0.850000  "
      ]
     },
     "execution_count": 4,
     "metadata": {},
     "output_type": "execute_result"
    }
   ],
   "source": [
    "Sales.describe()"
   ]
  },
  {
   "cell_type": "code",
   "execution_count": null,
   "metadata": {},
   "outputs": [],
   "source": [
    "# Task 1: Superstore\n",
    "\n",
    "# Continue using the Superstore dataset. The output to be submitted is\n",
    "a) code using matplotlib\n",
    "b) screenshots showing your results using Qlik Sense.\n",
    "\n",
    "# (Docu to help you is to be found [here]\n",
    "#  (https://matplotlib.org/gallery/lines_bars_and_markers/barchart.html#sphx-glr-gallery-lines-bars-and-markers-barchart-py))."
   ]
  },
  {
   "cell_type": "code",
   "execution_count": 41,
   "metadata": {},
   "outputs": [],
   "source": [
    "# - Map the amount of high-priority shipments within 2010 on a timeline.\n",
    "High_priority_in_2010 = Sales[ (Sales['Order Priority'] == 'High') & (Sales[\"Order Date\"].dt.year == 2010) ]"
   ]
  },
  {
   "cell_type": "code",
   "execution_count": 44,
   "metadata": {},
   "outputs": [
    {
     "name": "stderr",
     "output_type": "stream",
     "text": [
      "C:\\Users\\Ray_Zhang\\AppData\\Local\\Continuum\\anaconda3\\lib\\site-packages\\ipykernel_launcher.py:1: SettingWithCopyWarning: \n",
      "A value is trying to be set on a copy of a slice from a DataFrame\n",
      "\n",
      "See the caveats in the documentation: http://pandas.pydata.org/pandas-docs/stable/indexing.html#indexing-view-versus-copy\n",
      "  \"\"\"Entry point for launching an IPython kernel.\n"
     ]
    }
   ],
   "source": [
    "High_priority_in_2010.sort_values(by=['Order Date'], inplace=True)"
   ]
  },
  {
   "cell_type": "code",
   "execution_count": 53,
   "metadata": {},
   "outputs": [
    {
     "data": {
      "image/png": "[encoded data removed]",
      "text/plain": [
       "<Figure size 432x288 with 1 Axes>"
      ]
     },
     "metadata": {
      "needs_background": "light"
     },
     "output_type": "display_data"
    }
   ],
   "source": [
    "x = np.array(High_priority_in_2010[\"Order Date\"].unique())\n",
    "y = np.array(High_priority_in_2010[\"Sales\"].astype(int).groupby(High_priority_in_2010[\"Order Date\"]).sum())\n",
    "y\n",
    "plt.plot(x,y, 'm')\n",
    "plt.show()"
   ]
  },
  {
   "cell_type": "code",
   "execution_count": 173,
   "metadata": {},
   "outputs": [
    {
     "data": {
      "text/plain": [
       "<matplotlib.axes._subplots.AxesSubplot at 0x25cf0e1f198>"
      ]
     },
     "execution_count": 173,
     "metadata": {},
     "output_type": "execute_result"
    },
    {
     "data": {
      "image/png": "[encoded data removed]",
      "text/plain": [
       "<Figure size 1080x288 with 1 Axes>"
      ]
     },
     "metadata": {
      "needs_background": "light"
     },
     "output_type": "display_data"
    }
   ],
   "source": [
    "# - Graph out the minimum and maximum shipping costs per container type.\n",
    "max_cost_containers = Sales.groupby(Sales[\"Product Container\"]).max()\n",
    "categories = max_cost_containers.groupby('Product Container')\n",
    "values = categories['Shipping Cost'].max().sort_values(ascending=False)\n",
    "values.plot(kind='bar', figsize=(15, 4), color='blue', alpha=0.8)"
   ]
  },
  {
   "cell_type": "code",
   "execution_count": 174,
   "metadata": {},
   "outputs": [
    {
     "data": {
      "text/plain": [
       "<matplotlib.axes._subplots.AxesSubplot at 0x25cf73a1160>"
      ]
     },
     "execution_count": 174,
     "metadata": {},
     "output_type": "execute_result"
    },
    {
     "data": {
      "image/png": "[encoded data removed]",
      "text/plain": [
       "<Figure size 1080x288 with 1 Axes>"
      ]
     },
     "metadata": {
      "needs_background": "light"
     },
     "output_type": "display_data"
    }
   ],
   "source": [
    "min_cost_containers = Sales.groupby(Sales[\"Product Container\"]).min()\n",
    "categories = min_cost_containers.groupby('Product Container')\n",
    "values = categories['Shipping Cost'].max().sort_values(ascending=False)\n",
    "values.plot(kind='bar', figsize=(15, 4), color='blue', alpha=0.8)"
   ]
  },
  {
   "cell_type": "code",
   "execution_count": 157,
   "metadata": {},
   "outputs": [
    {
     "data": {
      "text/plain": [
       "Product Container\n",
       "Jumbo Drum    164.73\n",
       "Jumbo Box     154.12\n",
       "Large Box      69.00\n",
       "Medium Box     58.66\n",
       "Small Box      57.87\n",
       "Small Pack     54.95\n",
       "Wrap Bag       37.58\n",
       "Name: Shipping Cost, dtype: float64"
      ]
     },
     "execution_count": 157,
     "metadata": {},
     "output_type": "execute_result"
    }
   ],
   "source": []
  },
  {
   "cell_type": "code",
   "execution_count": 153,
   "metadata": {},
   "outputs": [
    {
     "data": {
      "text/plain": [
       "<matplotlib.axes._subplots.AxesSubplot at 0x25cf7430080>"
      ]
     },
     "execution_count": 153,
     "metadata": {},
     "output_type": "execute_result"
    },
    {
     "data": {
      "image/png": "[encoded data removed]",
      "text/plain": [
       "<Figure size 1080x288 with 1 Axes>"
      ]
     },
     "metadata": {
      "needs_background": "light"
     },
     "output_type": "display_data"
    }
   ],
   "source": []
  },
  {
   "cell_type": "code",
   "execution_count": 171,
   "metadata": {},
   "outputs": [
    {
     "data": {
      "text/plain": [
       "<pandas.core.groupby.generic.DataFrameGroupBy object at 0x0000025CF730C1D0>"
      ]
     },
     "execution_count": 171,
     "metadata": {},
     "output_type": "execute_result"
    }
   ],
   "source": [
    "# - Compare profits per category among the different regions\n",
    "regions_category = Sales.groupby(\"Region\")\n",
    "regions_category"
   ]
  },
  {
   "cell_type": "code",
   "execution_count": 205,
   "metadata": {},
   "outputs": [],
   "source": [
    "#Sales.groupby(\"Product Container\")[\"Shipping Cost\"].agg([max,min])"
   ]
  },
  {
   "cell_type": "code",
   "execution_count": 210,
   "metadata": {},
   "outputs": [
    {
     "data": {
      "text/plain": [
       "<matplotlib.axes._subplots.AxesSubplot at 0x25cf5e51b70>"
      ]
     },
     "execution_count": 210,
     "metadata": {},
     "output_type": "execute_result"
    },
    {
     "data": {
      "image/png": "[encoded data removed]",
      "text/plain": [
       "<Figure size 1080x288 with 1 Axes>"
      ]
     },
     "metadata": {
      "needs_background": "light"
     },
     "output_type": "display_data"
    }
   ],
   "source": [
    "Sales.groupby([\"Region\",\"Product Category\"])[\"Profit\"].sum().unstack().plot(kind='bar', figsize=(15, 4), color=('blue','red','green'), alpha=0.6)"
   ]
  },
  {
   "cell_type": "code",
   "execution_count": 211,
   "metadata": {},
   "outputs": [
    {
     "ename": "SyntaxError",
     "evalue": "invalid syntax (<ipython-input-211-3dbba4250a4d>, line 1)",
     "output_type": "error",
     "traceback": [
      "\u001b[1;36m  File \u001b[1;32m\"<ipython-input-211-3dbba4250a4d>\"\u001b[1;36m, line \u001b[1;32m1\u001b[0m\n\u001b[1;33m    Task 2: Biking LA\u001b[0m\n\u001b[1;37m         ^\u001b[0m\n\u001b[1;31mSyntaxError\u001b[0m\u001b[1;31m:\u001b[0m invalid syntax\n"
     ]
    }
   ],
   "source": []
  },
  {
   "cell_type": "code",
   "execution_count": null,
   "metadata": {},
   "outputs": [],
   "source": []
  }
 ],
 "metadata": {
  "kernelspec": {
   "display_name": "Python 3",
   "language": "python",
   "name": "python3"
  },
  "language_info": {
   "codemirror_mode": {
    "name": "ipython",
    "version": 3
   },
   "file_extension": ".py",
   "mimetype": "text/x-python",
   "name": "python",
   "nbconvert_exporter": "python",
   "pygments_lexer": "ipython3",
   "version": "3.7.3"
  }
 },
 "nbformat": 4,
 "nbformat_minor": 2
}
