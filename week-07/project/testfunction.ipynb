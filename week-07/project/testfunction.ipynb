{
 "cells": [
  {
   "cell_type": "code",
   "execution_count": 186,
   "metadata": {
    "scrolled": true
   },
   "outputs": [],
   "source": [
    "import folium\n",
    "import re\n",
    "import pandas as pd\n",
    "import numpy as np\n",
    "\n",
    "\n",
    "def getSurroundCoor(target_cor,csv_file = \"clean_data.csv\"):\n",
    "    data = pd.read_csv(csv_file)\n",
    "    r = 0.01\n",
    "    data = data[ (data[\"Latitude\"] < target_cor[0]+ r) & (data[\"Latitude\"] > target_cor[0]-r)]\n",
    "    data = data[ (data[\"Longitude\"] < target_cor[1]+ r) & (data[\"Longitude\"] > target_cor[1]-r)]\n",
    "    data = data[['prices','Latitude','Longitude']]\n",
    "    prices = np.array(data['prices']).astype(np.str).tolist()\n",
    "    cors = np.array(data[['Latitude','Longitude']]).astype(np.str).tolist()\n",
    "    return prices,cors\n",
    "\n",
    "target = [50.942187,-2.648283]\n",
    "surround = getSurroundCoor(target)\n",
    "#surround\n",
    "#print(len(surround[1]))\n",
    "\n",
    "#show up target_cor in cloud iron and surround_cors in blue circle\n",
    "#para surround_cor[0] is the prices and [1] is corrdinators\n",
    "def getResultPages(target_cor,target_value,surround_cor):\n",
    "    oneUserMap = folium.Map(location=target_cor,zoom_start=15,disable_3d = False)\n",
    "\n",
    "    folium.Marker(\n",
    "        target_cor,\n",
    "        #popup=str(i)+\":\"+e[0]+e[1],\n",
    "        icon=folium.Icon(icon='cloud'),\n",
    "        popup='₤'+ target_value,\n",
    "        number_of_sides=8,\n",
    "        color = 'red',\n",
    "        radius=10\n",
    "        ).add_to(oneUserMap)\n",
    "    for e,f in zip(surround_cor[1],surround_cor[0]):\n",
    "        folium.RegularPolygonMarker(\n",
    "        [e[0],e[1]],\n",
    "        color='purple',\n",
    "        popup='₤'+ str(f),\n",
    "        number_of_sides=8,\n",
    "        radius=10\n",
    "        ).add_to(oneUserMap)\n",
    "    #line_to_hanoi = folium.PolyLine(location).add_to(oneUserMap)\n",
    "    oneUserMap.save('1.html')\n",
    "getResultPages(target,'10000000',surround)"
   ]
  },
  {
   "cell_type": "code",
   "execution_count": null,
   "metadata": {},
   "outputs": [],
   "source": []
  }
 ],
 "metadata": {
  "kernelspec": {
   "display_name": "Python 3",
   "language": "python",
   "name": "python3"
  },
  "language_info": {
   "codemirror_mode": {
    "name": "ipython",
    "version": 3
   },
   "file_extension": ".py",
   "mimetype": "text/x-python",
   "name": "python",
   "nbconvert_exporter": "python",
   "pygments_lexer": "ipython3",
   "version": "3.7.3"
  }
 },
 "nbformat": 4,
 "nbformat_minor": 2
}
